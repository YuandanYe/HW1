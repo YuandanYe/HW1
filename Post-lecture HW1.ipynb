{
 "cells": [
  {
   "cell_type": "markdown",
   "id": "07b94617",
   "metadata": {},
   "source": [
    "count:The number of non-null entries in the dataset for each variable. It excludes any missing or NaN values.\n",
    "\n",
    "mean: it is the average value of the dataset\n",
    "\n",
    "std:standard deviation shows the stability of the dataset\n",
    "\n",
    "min: it is the smallest value of the dataset\n",
    "\n",
    "25%: departs the dataset into four parts which the number of the value is the same, it is the 25% of the data falls.\n",
    "\n",
    "50%: the middle value of the dataset when the values are arranged in order\n",
    "\n",
    "75%: The value below which 75% of the data falls, also known as the third quartile (Q3)\n",
    "\n",
    "max: the largest value of the dataset"
   ]
  },
  {
   "cell_type": "code",
   "execution_count": 4,
   "id": "96da5d8b",
   "metadata": {},
   "outputs": [
    {
     "name": "stdout",
     "output_type": "stream",
     "text": [
      "     A    B    C\n",
      "0  1.0  4.0  7.0\n",
      "1  2.0  5.0  8.0\n"
     ]
    }
   ],
   "source": [
    "#Provide an example of a \"use case\" in which using df.dropna() might be peferred over using del df['col']\n",
    "import pandas as pd\n",
    "data={'A':[1,2,None],'B':[4,5,None],'C':[7,8,None]}\n",
    "df=pd.DataFrame(data)\n",
    "df_cleaned=df.dropna()\n",
    "print(df_cleaned)"
   ]
  },
  {
   "cell_type": "code",
   "execution_count": 8,
   "id": "e06dc1a9",
   "metadata": {},
   "outputs": [
    {
     "name": "stdout",
     "output_type": "stream",
     "text": [
      "   B  C\n",
      "0  3  6\n",
      "1  4  7\n",
      "2  5  8\n"
     ]
    }
   ],
   "source": [
    "#Provide an example of \"the opposite use case\" in which using del df['col'] might be preferred over using df.dropna()\n",
    "import pandas as pd\n",
    "data={'A':[1,None,None],'B':[3,4,5],'C':[6,7,8]}\n",
    "df=pd.DataFrame(data)\n",
    "del df['A']\n",
    "print(df)"
   ]
  },
  {
   "cell_type": "markdown",
   "id": "08808d8e",
   "metadata": {},
   "source": [
    "\n",
    "\n",
    "#Discuss why applying del df['col'] before df.dropna() when both are used together could be important\n",
    "\n",
    "\n",
    "Delete unrelated or miscellaneous columns before data cleaning. When using df.dropna(), if a column contains irrelevant data or contains NaN values, it may unnecessarily trigger the deletion of rows. Therefore, first delete the column to ensure that it does not affect the deletion process."
   ]
  },
  {
   "cell_type": "code",
   "execution_count": 9,
   "id": "07cedeb0",
   "metadata": {},
   "outputs": [
    {
     "name": "stdout",
     "output_type": "stream",
     "text": [
      "     A  C\n",
      "0  1.0  7\n",
      "1  2.0  8\n"
     ]
    }
   ],
   "source": [
    "import pandas as pd\n",
    "data={'A':[1,2,None],'B':[None,None,None],'C':[7,8,9]}\n",
    "df=pd.DataFrame(data)\n",
    "del df['B']\n",
    "df_cleaned=df.dropna()\n",
    "print(df_cleaned)"
   ]
  },
  {
   "cell_type": "code",
   "execution_count": 10,
   "id": "84b2f1e9",
   "metadata": {},
   "outputs": [
    {
     "name": "stdout",
     "output_type": "stream",
     "text": [
      "Index(['survived', 'pclass', 'sex', 'age', 'sibsp', 'parch', 'fare',\n",
      "       'embarked', 'class', 'who', 'adult_male', 'deck', 'embark_town',\n",
      "       'alive', 'alone'],\n",
      "      dtype='object')\n",
      "        count       mean        std   min   25%   50%   75%   max\n",
      "sex                                                              \n",
      "female  261.0  27.915709  14.110146  0.75  18.0  27.0  37.0  63.0\n",
      "male    453.0  30.726645  14.678201  0.42  21.0  29.0  39.0  80.0\n"
     ]
    }
   ],
   "source": [
    "#Use your ChatBot session to understand what df.groupby(\"col1\")[\"col2\"].describe() does and then demonstrate and explain this using a different example from the \"titanic\" data set other than what the ChatBot automatically provide for you\n",
    "import pandas as pd\n",
    "url = 'https://raw.githubusercontent.com/mwaskom/seaborn-data/master/titanic.csv'\n",
    "df = pd.read_csv(url)\n",
    "print(df.columns)\n",
    "grouped_summary = df.groupby('sex')['age'].describe()\n",
    "print(grouped_summary)"
   ]
  },
  {
   "cell_type": "markdown",
   "id": "655ca1b5",
   "metadata": {},
   "source": [
    "\n",
    "\n",
    "#Assuming you've not yet removed missing values in the manner of question \"7\" above, df.describe() would have different values in the count value for different data columns depending on the missingness present in the original data. Why do these capture something fundamentally different from the values in the count that result from doing something like df.groupby(\"col1\")[\"col2\"].describe()?\n",
    "\n",
    "\n",
    "df.describe():automatically excludes missing values (i.e., NaN values) when calculating statistics like mean, standard deviation, etc.\n",
    "\n",
    "\n",
    "df.describe(), this method excludes missing values when calculating statistics. However, the count here reflects how many non-null values of col2 exist for each group defined by col1.\n"
   ]
  },
  {
   "cell_type": "markdown",
   "id": "0ed6cf98",
   "metadata": {},
   "source": [
    "The work of 8.3 is in this link:\n",
    "https://chatgpt.com/share/5bc607e0-8793-4f1c-8d45-e025d0fd13a4\n"
   ]
  },
  {
   "cell_type": "markdown",
   "id": "31728f94",
   "metadata": {},
   "source": [
    "\n",
    "\n",
    "Have you reviewed the course wiki-textbook and interacted with a ChatBot (or, if that wasn't sufficient, real people in the course piazza discussion board or TA office hours) to help you understand all the material in the tutorial and lecture that you didn't quite follow when you first saw it?\n",
    "\n",
    "Somewhat."
   ]
  },
  {
   "cell_type": "code",
   "execution_count": null,
   "id": "8545220d",
   "metadata": {},
   "outputs": [],
   "source": []
  }
 ],
 "metadata": {
  "kernelspec": {
   "display_name": "Python 3 (ipykernel)",
   "language": "python",
   "name": "python3"
  },
  "language_info": {
   "codemirror_mode": {
    "name": "ipython",
    "version": 3
   },
   "file_extension": ".py",
   "mimetype": "text/x-python",
   "name": "python",
   "nbconvert_exporter": "python",
   "pygments_lexer": "ipython3",
   "version": "3.11.6"
  }
 },
 "nbformat": 4,
 "nbformat_minor": 5
}
